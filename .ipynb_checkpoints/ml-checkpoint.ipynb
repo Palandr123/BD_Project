{
 "cells": [
  {
   "cell_type": "markdown",
   "id": "0635285d-5589-4eeb-9091-9dd2143b3492",
   "metadata": {
    "tags": []
   },
   "source": [
    "# Connect to Hive"
   ]
  },
  {
   "cell_type": "code",
   "execution_count": 10,
   "id": "9a2577f0-334e-41cc-8335-474c6ab2c5cd",
   "metadata": {},
   "outputs": [],
   "source": [
    "import pyspark.sql.functions as F\n",
    "from pyspark.sql import SparkSession"
   ]
  },
  {
   "cell_type": "code",
   "execution_count": 1,
   "id": "d4d77bfb-132e-422c-9933-69d0df5685dd",
   "metadata": {},
   "outputs": [],
   "source": [
    "# Add here your team number teamx\n",
    "team = \"team1\"\n",
    "\n",
    "# location of your Hive database in HDFS\n",
    "warehouse = \"project/hive/warehouse\"\n",
    "\n",
    "spark = SparkSession.builder\\\n",
    "        .appName(\"{} - spark ML\".format(team))\\\n",
    "        .master(\"yarn\")\\\n",
    "        .config(\"hive.metastore.uris\", \"thrift://hadoop-02.uni.innopolis.ru:9883\")\\\n",
    "        .config(\"spark.sql.warehouse.dir\", warehouse)\\\n",
    "        .config(\"spark.sql.avro.compression.codec\", \"snappy\")\\\n",
    "        .enableHiveSupport()\\\n",
    "        .getOrCreate()\n",
    "\n",
    "sc = spark.sparkContext"
   ]
  },
  {
   "cell_type": "code",
   "execution_count": 2,
   "id": "ab0a0875-0d8c-4f48-a65b-230e11c46d38",
   "metadata": {},
   "outputs": [
    {
     "data": {
      "text/html": [
       "\n",
       "            <div>\n",
       "                <p><b>SparkSession - hive</b></p>\n",
       "                \n",
       "        <div>\n",
       "            <p><b>SparkContext</b></p>\n",
       "\n",
       "            <p><a href=\"http://hadoop-01.uni.innopolis.ru:4143\">Spark UI</a></p>\n",
       "\n",
       "            <dl>\n",
       "              <dt>Version</dt>\n",
       "                <dd><code>v3.2.4</code></dd>\n",
       "              <dt>Master</dt>\n",
       "                <dd><code>yarn</code></dd>\n",
       "              <dt>AppName</dt>\n",
       "                <dd><code>team1 - spark ML</code></dd>\n",
       "            </dl>\n",
       "        </div>\n",
       "        \n",
       "            </div>\n",
       "        "
      ],
      "text/plain": [
       "<pyspark.sql.session.SparkSession at 0x7fbaac00e278>"
      ]
     },
     "execution_count": 2,
     "metadata": {},
     "output_type": "execute_result"
    }
   ],
   "source": [
    "spark"
   ]
  },
  {
   "cell_type": "markdown",
   "id": "ebbc89ee-c475-47d1-b000-a800563a8870",
   "metadata": {},
   "source": [
    "# list Hive databases"
   ]
  },
  {
   "cell_type": "code",
   "execution_count": 3,
   "id": "e2631136-e462-4815-a807-d1bd4bc3f7a8",
   "metadata": {},
   "outputs": [
    {
     "name": "stdout",
     "output_type": "stream",
     "text": [
      "[Database(name='default', description='Default Hive database', locationUri='hdfs://hadoop-02.uni.innopolis.ru:8020/apps/hive/warehouse'), Database(name='root_db', description='', locationUri='hdfs://hadoop-02.uni.innopolis.ru:8020/user/root/root_db'), Database(name='team0_projectdb', description='', locationUri='hdfs://hadoop-02.uni.innopolis.ru:8020/user/team0/project/hive/warehouse'), Database(name='team12_hive_projectdb', description='', locationUri='hdfs://hadoop-02.uni.innopolis.ru:8020/user/team12/project/hive/warehouse'), Database(name='team13_projectdb', description='', locationUri='hdfs://hadoop-02.uni.innopolis.ru:8020/user/team13/project/hive/warehouse'), Database(name='team14_projectdb', description='', locationUri='hdfs://hadoop-02.uni.innopolis.ru:8020/user/team14/project/hive/warehouse'), Database(name='team15_projectdb', description='', locationUri='hdfs://hadoop-02.uni.innopolis.ru:8020/user/team15/project/hive/warehouse'), Database(name='team16_projectdb', description='', locationUri='hdfs://hadoop-02.uni.innopolis.ru:8020/user/team16/project/hive/warehouse'), Database(name='team18_projectdb', description='', locationUri='hdfs://hadoop-02.uni.innopolis.ru:8020/user/team18/project/hive/warehouse'), Database(name='team19_projectdb', description='', locationUri='hdfs://hadoop-02.uni.innopolis.ru:8020/user/team19/project/hive/warehouse'), Database(name='team1_projectdb', description='', locationUri='hdfs://hadoop-02.uni.innopolis.ru:8020/user/team1/project/hive/warehouse'), Database(name='team20_projectdb', description='', locationUri='hdfs://hadoop-02.uni.innopolis.ru:8020/user/team20/project/hive/warehouse'), Database(name='team21_projectdb', description='', locationUri='hdfs://hadoop-02.uni.innopolis.ru:8020/user/team21/project/hive/warehouse'), Database(name='team23_projectdb', description='', locationUri='hdfs://hadoop-02.uni.innopolis.ru:8020/user/team23/project/hive/warehouse'), Database(name='team25_projectdb', description='', locationUri='hdfs://hadoop-02.uni.innopolis.ru:8020/user/team25/project/hive/warehouse'), Database(name='team26_projectdb', description='', locationUri='hdfs://hadoop-02.uni.innopolis.ru:8020/user/team26/project/hive/warehouse'), Database(name='team28_projectdb', description='', locationUri='hdfs://hadoop-02.uni.innopolis.ru:8020/user/team28/project/hive/warehouse'), Database(name='team2_projectdb', description='', locationUri='hdfs://hadoop-02.uni.innopolis.ru:8020/user/team2/project/hive/warehouse'), Database(name='team30_projectdb', description='', locationUri='hdfs://hadoop-02.uni.innopolis.ru:8020/user/team30/project/hive/warehouse'), Database(name='team31_projectdb', description='', locationUri='hdfs://hadoop-02.uni.innopolis.ru:8020/user/team31/project/hive/warehouse'), Database(name='team4_projectdb', description='', locationUri='hdfs://hadoop-02.uni.innopolis.ru:8020/user/team4/project/hive/warehouse'), Database(name='team7_projectdb', description='', locationUri='hdfs://hadoop-02.uni.innopolis.ru:8020/user/team7/project/hive/warehouse'), Database(name='team8_projectdb', description='', locationUri='hdfs://hadoop-02.uni.innopolis.ru:8020/user/team8/project/hive/warehouse'), Database(name='team9_projectdb', description='', locationUri='hdfs://hadoop-02.uni.innopolis.ru:8020/user/team9/project/hive/warehouse'), Database(name='testdb', description='', locationUri='hdfs://hadoop-02.uni.innopolis.ru:8020/apps/hive/warehouse/testdb.db'), Database(name='testdb2', description='', locationUri='hdfs://hadoop-02.uni.innopolis.ru:8020/user/team0/project/hive/warehouse2')]\n",
      "+--------------------+\n",
      "|           namespace|\n",
      "+--------------------+\n",
      "|             default|\n",
      "|             root_db|\n",
      "|     team0_projectdb|\n",
      "|team12_hive_proje...|\n",
      "|    team13_projectdb|\n",
      "|    team14_projectdb|\n",
      "|    team15_projectdb|\n",
      "|    team16_projectdb|\n",
      "|    team18_projectdb|\n",
      "|    team19_projectdb|\n",
      "|     team1_projectdb|\n",
      "|    team20_projectdb|\n",
      "|    team21_projectdb|\n",
      "|    team23_projectdb|\n",
      "|    team25_projectdb|\n",
      "|    team26_projectdb|\n",
      "|    team28_projectdb|\n",
      "|     team2_projectdb|\n",
      "|    team30_projectdb|\n",
      "|    team31_projectdb|\n",
      "+--------------------+\n",
      "only showing top 20 rows\n",
      "\n"
     ]
    }
   ],
   "source": [
    "print(spark.catalog.listDatabases())\n",
    "spark.sql(\"SHOW DATABASES;\").show()"
   ]
  },
  {
   "cell_type": "code",
   "execution_count": 4,
   "id": "49314463-a3fe-4243-a794-30265709c428",
   "metadata": {},
   "outputs": [
    {
     "data": {
      "text/plain": [
       "[Table(name='police_dept_incident_reports_part_buck', database='team1_projectdb', description=None, tableType='MANAGED', isTemporary=False),\n",
       " Table(name='q1_results', database='team1_projectdb', description=None, tableType='EXTERNAL', isTemporary=False),\n",
       " Table(name='q2_results', database='team1_projectdb', description=None, tableType='EXTERNAL', isTemporary=False),\n",
       " Table(name='q3_results', database='team1_projectdb', description=None, tableType='EXTERNAL', isTemporary=False),\n",
       " Table(name='q4_results', database='team1_projectdb', description=None, tableType='EXTERNAL', isTemporary=False),\n",
       " Table(name='q5_results', database='team1_projectdb', description=None, tableType='EXTERNAL', isTemporary=False)]"
      ]
     },
     "execution_count": 4,
     "metadata": {},
     "output_type": "execute_result"
    }
   ],
   "source": [
    "spark.catalog.listTables(\"team1_projectdb\")"
   ]
  },
  {
   "cell_type": "markdown",
   "id": "c69a1fe4-d2d3-4fb0-9533-59f61a917d05",
   "metadata": {},
   "source": [
    "# Specify the input and output features"
   ]
  },
  {
   "cell_type": "code",
   "execution_count": 4,
   "id": "018f48d1-6fde-4ff5-b7ce-4eed719a7774",
   "metadata": {},
   "outputs": [],
   "source": [
    "# We will use the following features\n",
    "# Excluded 'comm' because it has a lot of nulls\n",
    "# Excuded hiredate because it is given as practice to implement the cos_sin_transformation for the student\n",
    "features = ['empno', 'ename', 'job', 'mgr', 'deptno']\n",
    "\n",
    "# The output/target of our model\n",
    "label = 'sal'"
   ]
  },
  {
   "cell_type": "markdown",
   "id": "2f5bf565-af4e-49d4-bf45-ca1e1baf971f",
   "metadata": {},
   "source": [
    "# Read hive tables"
   ]
  },
  {
   "cell_type": "code",
   "execution_count": 5,
   "id": "3376ccfd-3045-4c2d-9800-19ea2da702b3",
   "metadata": {},
   "outputs": [],
   "source": [
    "incident_reports = spark.read.format(\"avro\").table('team1_projectdb.police_dept_incident_reports_part_buck')"
   ]
  },
  {
   "cell_type": "code",
   "execution_count": 19,
   "id": "c6d72927-3745-4d79-8979-36e3305aa089",
   "metadata": {},
   "outputs": [],
   "source": [
    "cols_check = incident_reports.columns"
   ]
  },
  {
   "cell_type": "code",
   "execution_count": 27,
   "id": "9b2c2257-8a81-4fa7-8ba3-520b8dd581c3",
   "metadata": {},
   "outputs": [
    {
     "data": {
      "text/plain": [
       "['incident_datetime',\n",
       " 'incident_date',\n",
       " 'incident_time',\n",
       " 'incident_dow',\n",
       " 'report_datetime',\n",
       " 'row_id',\n",
       " 'incident_id',\n",
       " 'incident_number',\n",
       " 'cad_number',\n",
       " 'report_type_code',\n",
       " 'report_type_description',\n",
       " 'filled_online',\n",
       " 'incident_code',\n",
       " 'incident_category',\n",
       " 'incident_subcategory',\n",
       " 'incident_descr',\n",
       " 'resolution',\n",
       " 'intersection',\n",
       " 'cnn',\n",
       " 'police_district',\n",
       " 'analysis_neigh',\n",
       " 'supervisor_distr',\n",
       " 'supervisor_distr_2012',\n",
       " 'latitude',\n",
       " 'longitude',\n",
       " 'datapoint',\n",
       " 'neighbourhoods',\n",
       " 'esncag',\n",
       " 'cm_polygon',\n",
       " 'cchr',\n",
       " 'hsoc',\n",
       " 'iin',\n",
       " 'csd',\n",
       " 'cpd',\n",
       " 'incident_year']"
      ]
     },
     "execution_count": 27,
     "metadata": {},
     "output_type": "execute_result"
    }
   ],
   "source": [
    "cols_check"
   ]
  },
  {
   "cell_type": "code",
   "execution_count": 25,
   "id": "f70c7268-9fda-41fb-8ead-f19165393653",
   "metadata": {},
   "outputs": [],
   "source": [
    "n_points = incident_reports.count()"
   ]
  },
  {
   "cell_type": "code",
   "execution_count": 28,
   "id": "662a1c70-3549-484c-99b9-00631ccfbc08",
   "metadata": {},
   "outputs": [
    {
     "name": "stdout",
     "output_type": "stream",
     "text": [
      "+-----------------+-------------+-------------+------------+---------------+------+-----------+---------------+----------+----------------+-----------------------+-------------+-------------+-----------------+--------------------+--------------+----------+------------+-----+---------------+--------------+----------------+---------------------+--------+---------+---------+--------------+------+----------+------+------+-----+-----+-----+-------------+\n",
      "|incident_datetime|incident_date|incident_time|incident_dow|report_datetime|row_id|incident_id|incident_number|cad_number|report_type_code|report_type_description|filled_online|incident_code|incident_category|incident_subcategory|incident_descr|resolution|intersection|  cnn|police_district|analysis_neigh|supervisor_distr|supervisor_distr_2012|latitude|longitude|datapoint|neighbourhoods|esncag|cm_polygon|  cchr|  hsoc|  iin|  csd|  cpd|incident_year|\n",
      "+-----------------+-------------+-------------+------------+---------------+------+-----------+---------------+----------+----------------+-----------------------+-------------+-------------+-----------------+--------------------+--------------+----------+------------+-----+---------------+--------------+----------------+---------------------+--------+---------+---------+--------------+------+----------+------+------+-----+-----+-----+-------------+\n",
      "|              0.0|          0.0|          0.0|         0.0|            0.0|   0.0|        0.0|            0.0|     20.87|             0.0|                    0.0|       82.366|          0.0|             0.12|                0.12|           0.0|       0.0|       6.355|6.355|            0.0|         6.373|           6.406|                6.374|   6.355|    6.355|    6.355|         8.009|99.124|    84.966|86.041|79.077|100.0|6.374|6.435|          0.0|\n",
      "+-----------------+-------------+-------------+------------+---------------+------+-----------+---------------+----------+----------------+-----------------------+-------------+-------------+-----------------+--------------------+--------------+----------+------------+-----+---------------+--------------+----------------+---------------------+--------+---------+---------+--------------+------+----------+------+------+-----+-----+-----+-------------+\n",
      "\n"
     ]
    }
   ],
   "source": [
    "incident_reports.select(*[\n",
    "    (\n",
    "        F.count(F.when((F.isnan(c) | F.col(c).isNull()), c)) * 100 / n_points if t not in (\"timestamp\", \"date\", \"boolean\")\n",
    "        else F.count(F.when(F.col(c).isNull(), c)) * 100 / n_points\n",
    "    ).alias(c)\n",
    "    for c, t in incident_reports.dtypes if c in cols_check\n",
    "]).show()"
   ]
  },
  {
   "cell_type": "code",
   "execution_count": 30,
   "id": "d2c90f0d-0f6c-4d66-a169-a1b180fffe0b",
   "metadata": {},
   "outputs": [
    {
     "name": "stdout",
     "output_type": "stream",
     "text": [
      "+--------------------------+\n",
      "|approx_count_distinct(cnn)|\n",
      "+--------------------------+\n",
      "|                      6422|\n",
      "+--------------------------+\n",
      "\n"
     ]
    }
   ],
   "source": [
    "incident_reports.agg(F.approx_count_distinct(\"cnn\")).show()"
   ]
  },
  {
   "cell_type": "markdown",
   "id": "60e05e6d-b953-4dd6-84ae-dbeac729dc76",
   "metadata": {},
   "source": [
    "# Feature selection"
   ]
  },
  {
   "cell_type": "code",
   "execution_count": 32,
   "id": "00984a8d-8516-47b6-891a-85711cb5f210",
   "metadata": {},
   "outputs": [
    {
     "name": "stdout",
     "output_type": "stream",
     "text": [
      "+-------------+-------------+------------+---------------+----------------+-------------+--------+--------------+----+----+-----------+---------+\n",
      "|incident_date|incident_time|incident_dow|report_datetime|report_type_code|incident_code|     cnn|neighbourhoods| csd| cpd|  longitude| latitude|\n",
      "+-------------+-------------+------------+---------------+----------------+-------------+--------+--------------+----+----+-----------+---------+\n",
      "|   2023-12-31|        12:40|      Sunday|     2023-12-31|              II|        12027|20429000|            74|   9|   9|-122.421005|37.710102|\n",
      "|   2023-12-31|        12:00|      Sunday|     2024-01-03|              II|        71000|    null|          null|null|null|       null|     null|\n",
      "|   2023-12-31|        00:00|      Sunday|     2024-01-11|              II|         6374|25607000|            52|   5|   3| -122.42303| 37.75357|\n",
      "|   2023-12-31|        00:00|      Sunday|     2023-12-31|              II|         6244|27826000|             9|   4|   8| -122.49491|  37.7702|\n",
      "|   2023-12-31|        00:00|      Sunday|     2024-01-19|              VI|        68030|27275000|             5|   4|   8| -122.46414| 37.77909|\n",
      "|   2023-12-31|        23:50|      Sunday|     2024-01-03|              II|         6372|23531000|            56|   9|   2| -122.38643|37.749065|\n",
      "|   2023-12-31|        23:00|      Sunday|     2024-03-27|              II|         4134|24898000|            32|  10|   5| -122.40895|37.783287|\n",
      "|   2023-12-31|        22:51|      Sunday|     2023-12-31|              II|        62010|30045000|            20|  10|   5| -122.41315|37.780994|\n",
      "|   2023-12-31|        22:30|      Sunday|     2024-01-01|              II|         4013|23798000|            34|  10|   1|-122.394035|37.776333|\n",
      "|   2023-12-31|        10:30|      Sunday|     2024-02-09|              II|         5153|25365000|           106|   3|   6| -122.40919|37.800446|\n",
      "+-------------+-------------+------------+---------------+----------------+-------------+--------+--------------+----+----+-----------+---------+\n",
      "only showing top 10 rows\n",
      "\n"
     ]
    }
   ],
   "source": [
    "# Check https://docs.google.com/spreadsheets/d/1Sz_L9LEuZqLSNdyOUZKidgQ-RDqMb8TwA0jZ8sGbElM/edit#gid=0\n",
    "use_features = [\"incident_date\", \"incident_time\", \"incident_dow\",\n",
    "                \"report_datetime\", \"report_type_code\", \"incident_code\",\n",
    "                \"cnn\", \"neighbourhoods\", \"csd\", \"cpd\"]\n",
    "\n",
    "target = ['longitude', 'latitude']\n",
    "\n",
    "incident_reports = incident_reports[use_features + target]\n",
    "incident_reports.show(10)"
   ]
  },
  {
   "cell_type": "code",
   "execution_count": null,
   "id": "a2709fe3-bbd9-4707-9506-6a8eae16979c",
   "metadata": {},
   "outputs": [],
   "source": []
  },
  {
   "cell_type": "code",
   "execution_count": 10,
   "id": "078657b6-8c1e-4898-a569-20f9e361e319",
   "metadata": {},
   "outputs": [],
   "source": [
    "from pyspark.ml import Pipeline\n",
    "from pyspark.ml.feature import StringIndexer, OneHotEncoder, VectorAssembler, Word2Vec, Tokenizer, RegexTokenizer\n",
    "from pyspark.sql.functions import col\n",
    "\n",
    "categoricalCols = ['deptno']\n",
    "textCols = ['ename_job']\n",
    "others = ['empno', 'mgr']"
   ]
  },
  {
   "cell_type": "markdown",
   "id": "5a71bafe-c88b-47d2-accc-a9ca27f3a95d",
   "metadata": {},
   "source": [
    "# Feature extraction"
   ]
  },
  {
   "cell_type": "code",
   "execution_count": 11,
   "id": "1389febd-20de-4346-9d16-57dba4cf56bc",
   "metadata": {},
   "outputs": [
    {
     "name": "stdout",
     "output_type": "stream",
     "text": [
      "+-----+------+--------+----+------+-------+---------------+------------------+--------------------+--------------+----------------------+--------------------+\n",
      "|empno| ename|     job| mgr|deptno|  label|      ename_job|  ename_job_tokens|           ename_enc|deptno_indexed|deptno_indexed_encoded|            features|\n",
      "+-----+------+--------+----+------+-------+---------------+------------------+--------------------+--------------+----------------------+--------------------+\n",
      "| 7782| CLARK| MANAGER|7839|    10|2450.00|  CLARK_MANAGER|  [clark, manager]|[-0.0366689357906...|           2.0|             (2,[],[])|[0.0,0.0,7782.0,7...|\n",
      "| 7934|MILLER|   CLERK|7782|    10|1300.00|   MILLER_CLERK|   [miller, clerk]|[-0.0071940987836...|           2.0|             (2,[],[])|[0.0,0.0,7934.0,7...|\n",
      "| 7369| SMITH|   CLERK|7902|    20| 800.00|    SMITH_CLERK|    [smith, clerk]|[-0.0284428878221...|           1.0|         (2,[1],[1.0])|[0.0,1.0,7369.0,7...|\n",
      "| 7566| JONES| MANAGER|7839|    20|2975.00|  JONES_MANAGER|  [jones, manager]|[-0.0908656232059...|           1.0|         (2,[1],[1.0])|[0.0,1.0,7566.0,7...|\n",
      "| 7788| SCOTT| ANALYST|7566|    20|3000.00|  SCOTT_ANALYST|  [scott, analyst]|[-0.0248459111899...|           1.0|         (2,[1],[1.0])|[0.0,1.0,7788.0,7...|\n",
      "| 7876| ADAMS|   CLERK|7788|    20|1100.00|    ADAMS_CLERK|    [adams, clerk]|[-0.0381834919098...|           1.0|         (2,[1],[1.0])|[0.0,1.0,7876.0,7...|\n",
      "| 7902|  FORD| ANALYST|7566|    20|3000.00|   FORD_ANALYST|   [ford, analyst]|[0.05816377513110...|           1.0|         (2,[1],[1.0])|[0.0,1.0,7902.0,7...|\n",
      "| 7499| ALLEN|SALESMAN|7698|    30|1600.00| ALLEN_SALESMAN| [allen, salesman]|[-9.2349946498870...|           0.0|         (2,[0],[1.0])|[1.0,0.0,7499.0,7...|\n",
      "| 7521|  WARD|SALESMAN|7698|    30|1250.00|  WARD_SALESMAN|  [ward, salesman]|[-0.0903943032026...|           0.0|         (2,[0],[1.0])|[1.0,0.0,7521.0,7...|\n",
      "| 7698| BLAKE| MANAGER|7839|    30|2850.00|  BLAKE_MANAGER|  [blake, manager]|[-0.0339199090376...|           0.0|         (2,[0],[1.0])|[1.0,0.0,7698.0,7...|\n",
      "| 7844|TURNER|SALESMAN|7698|    30|1500.00|TURNER_SALESMAN|[turner, salesman]|[-0.0073873698711...|           0.0|         (2,[0],[1.0])|[1.0,0.0,7844.0,7...|\n",
      "| 7900| JAMES|   CLERK|7698|    30| 950.00|    JAMES_CLERK|    [james, clerk]|[0.02699930383823...|           0.0|         (2,[0],[1.0])|[1.0,0.0,7900.0,7...|\n",
      "| 7654|MARTIN|SALESMAN|7698|    30|1250.00|MARTIN_SALESMAN|[martin, salesman]|[-0.0136536285281...|           0.0|         (2,[0],[1.0])|[1.0,0.0,7654.0,7...|\n",
      "+-----+------+--------+----+------+-------+---------------+------------------+--------------------+--------------+----------------------+--------------------+\n",
      "\n",
      "+--------------------+-------+--------------------+\n",
      "|            features|  label|     indexedFeatures|\n",
      "+--------------------+-------+--------------------+\n",
      "|[0.0,0.0,7782.0,7...|2450.00|[0.0,0.0,7782.0,7...|\n",
      "|[0.0,0.0,7934.0,7...|1300.00|[0.0,0.0,7934.0,7...|\n",
      "|[0.0,1.0,7369.0,7...| 800.00|[0.0,1.0,7369.0,7...|\n",
      "|[0.0,1.0,7566.0,7...|2975.00|[0.0,1.0,7566.0,7...|\n",
      "|[0.0,1.0,7788.0,7...|3000.00|[0.0,1.0,7788.0,7...|\n",
      "|[0.0,1.0,7876.0,7...|1100.00|[0.0,1.0,7876.0,7...|\n",
      "|[0.0,1.0,7902.0,7...|3000.00|[0.0,1.0,7902.0,7...|\n",
      "|[1.0,0.0,7499.0,7...|1600.00|[1.0,0.0,7499.0,7...|\n",
      "|[1.0,0.0,7521.0,7...|1250.00|[1.0,0.0,7521.0,7...|\n",
      "|[1.0,0.0,7698.0,7...|2850.00|[1.0,0.0,7698.0,7...|\n",
      "|[1.0,0.0,7844.0,7...|1500.00|[1.0,0.0,7844.0,7...|\n",
      "|[1.0,0.0,7900.0,7...| 950.00|[1.0,0.0,7900.0,7...|\n",
      "|[1.0,0.0,7654.0,7...|1250.00|[1.0,0.0,7654.0,7...|\n",
      "+--------------------+-------+--------------------+\n",
      "\n"
     ]
    }
   ],
   "source": [
    "\n",
    "# Since the tokenizer only return tokens separated by white spaces, I used RegexTokenizer to tokenize by '_'\n",
    "# Then created word2Vec model\n",
    "\n",
    "# tokenizer = Tokenizer(inputCol=\"ename\", outputCol=\"ename_tokens\")\n",
    "# emps_tok = tokenizer.transform(emps)\n",
    "tokenizer = RegexTokenizer(inputCol=textCols[0], outputCol=\"ename_job_tokens\", pattern=\"_\")\n",
    "# emps_tok = tokenizer.transform(emps)\n",
    "# emps_tok.show()\n",
    "\n",
    "word2Vec = Word2Vec(vectorSize=5, seed=42, minCount=1, inputCol=\"ename_job_tokens\", outputCol=\"ename_enc\")\n",
    "# word2VecModel = word2Vec.fit(emps_tok)\n",
    "# print(word2VecModel)\n",
    "\n",
    "# emps_tok = word2VecModel.transform(emps_tok)\n",
    "# emps_tok.show()\n",
    "\n",
    "# Adding the encoded ename_job to the list of other columns\n",
    "# others += [ename_enc]\n",
    "\n",
    "\n",
    "# Create String indexer to assign index for the string fields where each unique string will get a unique index\n",
    "# String Indexer is required as an input for One-Hot Encoder \n",
    "# We set the case as `skip` for any string out of the input strings\n",
    "indexers = [ StringIndexer(inputCol=c, outputCol=\"{0}_indexed\".format(c)).setHandleInvalid(\"skip\") for c in categoricalCols ]\n",
    "\n",
    "# Encode the strings using One Hot encoding\n",
    "# default setting: dropLast=True ==> For example with 5 categories, an input value of 2.0 would map to an output vector of [0.0, 0.0, 1.0, 0.0]. The last category is not included by default (configurable via dropLast), because it makes the vector entries sum up to one, and hence linearly dependent. So an input value of 4.0 maps to [0.0, 0.0, 0.0, 0.0].\n",
    "encoders = [ OneHotEncoder(inputCol=indexer.getOutputCol(), outputCol=\"{0}_encoded\".format(indexer.getOutputCol())) for indexer in indexers ]\n",
    "\n",
    "# This will concatenate the input cols into a single column.\n",
    "assembler = VectorAssembler(inputCols=[encoder.getOutputCol() for encoder in encoders] + others, outputCol= \"features\")\n",
    "\n",
    "# You can create a pipeline to use only a single fit and transform on the data.\n",
    "pipeline = Pipeline(stages=[tokenizer, word2Vec] + indexers + encoders + [assembler])\n",
    "\n",
    "\n",
    "# Fit the pipeline ==> This will call the fit functions for all transformers if exist\n",
    "model=pipeline.fit(emps)\n",
    "# Fit the pipeline ==> This will call the transform functions for all transformers\n",
    "data = model.transform(emps)\n",
    "\n",
    "data.show()\n",
    "\n",
    "# We delete all features and keep only the features and label columns\n",
    "data = data.select([\"features\", \"label\"])\n",
    "\n",
    "\n",
    "from pyspark.ml.feature import VectorIndexer\n",
    "\n",
    "# Automatically identify categorical features, and index them.\n",
    "# We specify maxCategories so features with > 4\n",
    "# distinct values are treated as continuous.\n",
    "featureIndexer = VectorIndexer(inputCol=\"features\", outputCol=\"indexedFeatures\", maxCategories=4).fit(data)\n",
    "transformed = featureIndexer.transform(data)\n",
    "\n",
    "# Display the output Spark DataFrame\n",
    "transformed.show()"
   ]
  },
  {
   "cell_type": "markdown",
   "id": "c4fd3df2-8f31-42ed-8f0f-7dfcb795a5e8",
   "metadata": {},
   "source": [
    "# Split the dataset"
   ]
  },
  {
   "cell_type": "code",
   "execution_count": 12,
   "id": "71ca00fb-a991-47d0-8d09-75e5604ed694",
   "metadata": {},
   "outputs": [
    {
     "data": {
      "text/plain": [
       "''"
      ]
     },
     "execution_count": 12,
     "metadata": {},
     "output_type": "execute_result"
    }
   ],
   "source": [
    "#  split the data into 60% training and 40% test (it is not stratified)\n",
    "(train_data, test_data) = transformed.randomSplit([0.6, 0.4], seed = 10)\n",
    "\n",
    "def run(command):\n",
    "    import os\n",
    "    return os.popen(command).read()\n",
    "\n",
    "train_data.select(\"features\", \"label\")\\\n",
    "    .coalesce(1)\\\n",
    "    .write\\\n",
    "    .mode(\"overwrite\")\\\n",
    "    .format(\"json\")\\\n",
    "    .save(\"project/data/train\")\n",
    "\n",
    "# Run it from root directory of the repository\n",
    "run(\"hdfs dfs -cat project/data/train/*.json > data/train.json\")\n",
    "\n",
    "test_data.select(\"features\", \"label\")\\\n",
    "    .coalesce(1)\\\n",
    "    .write\\\n",
    "    .mode(\"overwrite\")\\\n",
    "    .format(\"json\")\\\n",
    "    .save(\"project/data/test\")\n",
    "\n",
    "# Run it from root directory of the repository\n",
    "run(\"hdfs dfs -cat project/data/test/*.json > data/test.json\")"
   ]
  },
  {
   "cell_type": "markdown",
   "id": "12fecd52-189d-45af-841c-47819b311918",
   "metadata": {},
   "source": [
    "# First model"
   ]
  },
  {
   "cell_type": "markdown",
   "id": "6daffa79-5f41-4e78-aa1a-c914f8b3f1f5",
   "metadata": {},
   "source": [
    "## Build a model"
   ]
  },
  {
   "cell_type": "code",
   "execution_count": 13,
   "id": "9892ef1c-f7c4-4acd-8d7d-5630f0823c0c",
   "metadata": {},
   "outputs": [],
   "source": [
    "from pyspark.ml.regression import LinearRegression\n",
    "# Create Linear Regression Model\n",
    "lr = LinearRegression()\n",
    "\n",
    "# Fit the data to the pipeline stages\n",
    "model_lr = lr.fit(train_data)"
   ]
  },
  {
   "cell_type": "markdown",
   "id": "258b1396-77d4-4dd8-8777-d0e6fcbd629f",
   "metadata": {},
   "source": [
    "## Predict for test data"
   ]
  },
  {
   "cell_type": "code",
   "execution_count": 14,
   "id": "b9a0f1ff-a175-4e00-ac1b-a5476dd7dd19",
   "metadata": {},
   "outputs": [
    {
     "name": "stdout",
     "output_type": "stream",
     "text": [
      "+--------------------+-------+--------------------+------------------+\n",
      "|            features|  label|     indexedFeatures|        prediction|\n",
      "+--------------------+-------+--------------------+------------------+\n",
      "|[0.0,1.0,7566.0,7...|2975.00|[0.0,1.0,7566.0,7...|1924.5270478162856|\n",
      "|[0.0,1.0,7876.0,7...|1100.00|[0.0,1.0,7876.0,7...| 3170.043729058416|\n",
      "|[1.0,0.0,7521.0,7...|1250.00|[1.0,0.0,7521.0,7...|1451.4393991361212|\n",
      "|[1.0,0.0,7844.0,7...|1500.00|[1.0,0.0,7844.0,7...|2802.3757762021633|\n",
      "|[1.0,0.0,7900.0,7...| 950.00|[1.0,0.0,7900.0,7...| 3036.593847767792|\n",
      "+--------------------+-------+--------------------+------------------+\n",
      "\n"
     ]
    }
   ],
   "source": [
    "predictions = model_lr.transform(test_data)\n",
    "predictions.show()"
   ]
  },
  {
   "cell_type": "markdown",
   "id": "32e97403-59a0-4ec4-b044-678ba6aa2b66",
   "metadata": {},
   "source": [
    "## Evaluate the model"
   ]
  },
  {
   "cell_type": "code",
   "execution_count": 15,
   "id": "c6b166ca-8b62-4995-adca-129021dd6d40",
   "metadata": {},
   "outputs": [
    {
     "name": "stdout",
     "output_type": "stream",
     "text": [
      "Root Mean Squared Error (RMSE) on test data = 1515.2035403198176\n",
      "R^2 on test data = -3.274514557061458\n"
     ]
    }
   ],
   "source": [
    "from pyspark.ml.evaluation import RegressionEvaluator \n",
    "\n",
    "# Evaluate the performance of the model\n",
    "evaluator1_rmse = RegressionEvaluator(labelCol=\"label\", predictionCol=\"prediction\", metricName=\"rmse\")\n",
    "evaluator1_r2 = RegressionEvaluator(labelCol=\"label\", predictionCol=\"prediction\", metricName=\"r2\")\n",
    "\n",
    "rmse = evaluator1_rmse.evaluate(predictions)\n",
    "r2 = evaluator1_r2.evaluate(predictions)\n",
    "\n",
    "print(\"Root Mean Squared Error (RMSE) on test data = {}\".format(rmse))\n",
    "print(\"R^2 on test data = {}\".format(r2))"
   ]
  },
  {
   "cell_type": "markdown",
   "id": "b6b0e075-c37c-492a-b894-2f64d4dea72b",
   "metadata": {},
   "source": [
    "## Hyperparameter optimization"
   ]
  },
  {
   "cell_type": "code",
   "execution_count": 16,
   "id": "7e04437d-2bf9-4803-83cc-b7ed17d311e4",
   "metadata": {},
   "outputs": [
    {
     "data": {
      "text/plain": [
       "[Param(parent='LinearRegression_2abd6a80678b', name='aggregationDepth', doc='suggested depth for treeAggregate (>= 2).'),\n",
       " Param(parent='LinearRegression_2abd6a80678b', name='elasticNetParam', doc='the ElasticNet mixing parameter, in range [0, 1]. For alpha = 0, the penalty is an L2 penalty. For alpha = 1, it is an L1 penalty.'),\n",
       " Param(parent='LinearRegression_2abd6a80678b', name='epsilon', doc='The shape parameter to control the amount of robustness. Must be > 1.0. Only valid when loss is huber'),\n",
       " Param(parent='LinearRegression_2abd6a80678b', name='featuresCol', doc='features column name.'),\n",
       " Param(parent='LinearRegression_2abd6a80678b', name='fitIntercept', doc='whether to fit an intercept term.'),\n",
       " Param(parent='LinearRegression_2abd6a80678b', name='labelCol', doc='label column name.'),\n",
       " Param(parent='LinearRegression_2abd6a80678b', name='loss', doc='The loss function to be optimized. Supported options: squaredError, huber.'),\n",
       " Param(parent='LinearRegression_2abd6a80678b', name='maxBlockSizeInMB', doc='maximum memory in MB for stacking input data into blocks. Data is stacked within partitions. If more than remaining data size in a partition then it is adjusted to the data size. Default 0.0 represents choosing optimal value, depends on specific algorithm. Must be >= 0.'),\n",
       " Param(parent='LinearRegression_2abd6a80678b', name='maxIter', doc='max number of iterations (>= 0).'),\n",
       " Param(parent='LinearRegression_2abd6a80678b', name='predictionCol', doc='prediction column name.'),\n",
       " Param(parent='LinearRegression_2abd6a80678b', name='regParam', doc='regularization parameter (>= 0).'),\n",
       " Param(parent='LinearRegression_2abd6a80678b', name='solver', doc='The solver algorithm for optimization. Supported options: auto, normal, l-bfgs.'),\n",
       " Param(parent='LinearRegression_2abd6a80678b', name='standardization', doc='whether to standardize the training features before fitting the model.'),\n",
       " Param(parent='LinearRegression_2abd6a80678b', name='tol', doc='the convergence tolerance for iterative algorithms (>= 0).'),\n",
       " Param(parent='LinearRegression_2abd6a80678b', name='weightCol', doc='weight column name. If this is not set or empty, we treat all instance weights as 1.0.')]"
      ]
     },
     "execution_count": 16,
     "metadata": {},
     "output_type": "execute_result"
    }
   ],
   "source": [
    "model_lr.params"
   ]
  },
  {
   "cell_type": "code",
   "execution_count": 17,
   "id": "9f4388f9-db94-423c-879d-392c90041d95",
   "metadata": {},
   "outputs": [
    {
     "data": {
      "text/plain": [
       "LinearRegressionModel: uid=LinearRegression_2abd6a80678b, numFeatures=4"
      ]
     },
     "execution_count": 17,
     "metadata": {},
     "output_type": "execute_result"
    }
   ],
   "source": [
    "from pyspark.ml.tuning import ParamGridBuilder, CrossValidator \n",
    "\n",
    "import numpy as np\n",
    "\n",
    "\n",
    "grid = ParamGridBuilder()\n",
    "grid = grid.addGrid(\n",
    "                    model_lr.aggregationDepth, [2, 3, 4])\\\n",
    "                    .addGrid(model_lr.regParam, np.logspace(1e-3,1e-1)\n",
    "                    )\\\n",
    "                    .build()\n",
    "\n",
    "cv = CrossValidator(estimator = lr, \n",
    "                    estimatorParamMaps = grid, \n",
    "                    evaluator = evaluator1_rmse,\n",
    "                    parallelism = 5,\n",
    "                    numFolds=3)\n",
    "\n",
    "cvModel = cv.fit(train_data)\n",
    "bestModel = cvModel.bestModel\n",
    "bestModel"
   ]
  },
  {
   "cell_type": "markdown",
   "id": "8a27e31c-959e-438c-bec0-1f109d7e2c15",
   "metadata": {},
   "source": [
    "## Best model 1\n"
   ]
  },
  {
   "cell_type": "code",
   "execution_count": 18,
   "id": "8d86fc18-eb29-4f03-bfef-ed3aa1daa4fa",
   "metadata": {},
   "outputs": [
    {
     "name": "stdout",
     "output_type": "stream",
     "text": [
      "{Param(parent='LinearRegression_2abd6a80678b', name='tol', doc='the convergence tolerance for iterative algorithms (>= 0).'): 1e-06,\n",
      " Param(parent='LinearRegression_2abd6a80678b', name='featuresCol', doc='features column name.'): 'features',\n",
      " Param(parent='LinearRegression_2abd6a80678b', name='fitIntercept', doc='whether to fit an intercept term.'): True,\n",
      " Param(parent='LinearRegression_2abd6a80678b', name='labelCol', doc='label column name.'): 'label',\n",
      " Param(parent='LinearRegression_2abd6a80678b', name='loss', doc='The loss function to be optimized. Supported options: squaredError, huber.'): 'squaredError',\n",
      " Param(parent='LinearRegression_2abd6a80678b', name='predictionCol', doc='prediction column name.'): 'prediction',\n",
      " Param(parent='LinearRegression_2abd6a80678b', name='solver', doc='The solver algorithm for optimization. Supported options: auto, normal, l-bfgs.'): 'auto',\n",
      " Param(parent='LinearRegression_2abd6a80678b', name='standardization', doc='whether to standardize the training features before fitting the model.'): True,\n",
      " Param(parent='LinearRegression_2abd6a80678b', name='regParam', doc='regularization parameter (>= 0).'): 1.2589254117941673,\n",
      " Param(parent='LinearRegression_2abd6a80678b', name='maxIter', doc='max number of iterations (>= 0).'): 100,\n",
      " Param(parent='LinearRegression_2abd6a80678b', name='epsilon', doc='The shape parameter to control the amount of robustness. Must be > 1.0. Only valid when loss is huber'): 1.35,\n",
      " Param(parent='LinearRegression_2abd6a80678b', name='elasticNetParam', doc='the ElasticNet mixing parameter, in range [0, 1]. For alpha = 0, the penalty is an L2 penalty. For alpha = 1, it is an L1 penalty.'): 0.0,\n",
      " Param(parent='LinearRegression_2abd6a80678b', name='maxBlockSizeInMB', doc='maximum memory in MB for stacking input data into blocks. Data is stacked within partitions. If more than remaining data size in a partition then it is adjusted to the data size. Default 0.0 represents choosing optimal value, depends on specific algorithm. Must be >= 0.'): 0.0,\n",
      " Param(parent='LinearRegression_2abd6a80678b', name='aggregationDepth', doc='suggested depth for treeAggregate (>= 2).'): 2}\n"
     ]
    }
   ],
   "source": [
    "from pprint import pprint\n",
    "model1 = bestModel\n",
    "pprint(model1.extractParamMap())"
   ]
  },
  {
   "cell_type": "markdown",
   "id": "632f666a-f792-4b50-b38f-b39f9208ab25",
   "metadata": {},
   "source": [
    "## Save the model to HDFS"
   ]
  },
  {
   "cell_type": "code",
   "execution_count": 19,
   "id": "e562da25-53d1-46dc-ac5d-68a6e9041927",
   "metadata": {},
   "outputs": [
    {
     "data": {
      "text/plain": [
       "''"
      ]
     },
     "execution_count": 19,
     "metadata": {},
     "output_type": "execute_result"
    }
   ],
   "source": [
    "model1.write().overwrite().save(\"project/models/model1\")\n",
    "\n",
    "# Run it from root directory of the repository\n",
    "run(\"hdfs dfs -get project/models/model1 models/model1\")"
   ]
  },
  {
   "cell_type": "markdown",
   "id": "f0e9b220-54e1-49ce-802c-fc005d8f63c3",
   "metadata": {},
   "source": [
    "## Predict for test data using best model1"
   ]
  },
  {
   "cell_type": "code",
   "execution_count": 20,
   "id": "cf8a05de-dcae-4bb0-8cf1-de760a62e0fb",
   "metadata": {},
   "outputs": [
    {
     "name": "stdout",
     "output_type": "stream",
     "text": [
      "+--------------------+-------+--------------------+------------------+\n",
      "|            features|  label|     indexedFeatures|        prediction|\n",
      "+--------------------+-------+--------------------+------------------+\n",
      "|[0.0,1.0,7566.0,7...|2975.00|[0.0,1.0,7566.0,7...|1919.1792222987642|\n",
      "|[0.0,1.0,7876.0,7...|1100.00|[0.0,1.0,7876.0,7...| 3153.062261013358|\n",
      "|[1.0,0.0,7521.0,7...|1250.00|[1.0,0.0,7521.0,7...|  1457.89900065869|\n",
      "|[1.0,0.0,7844.0,7...|1500.00|[1.0,0.0,7844.0,7...|2793.4353807326916|\n",
      "|[1.0,0.0,7900.0,7...| 950.00|[1.0,0.0,7900.0,7...| 3024.983483779586|\n",
      "+--------------------+-------+--------------------+------------------+\n",
      "\n"
     ]
    }
   ],
   "source": [
    "predictions = model1.transform(test_data)\n",
    "predictions.show()"
   ]
  },
  {
   "cell_type": "code",
   "execution_count": 21,
   "id": "096936c5-a575-48b7-92d2-be22893e892c",
   "metadata": {},
   "outputs": [
    {
     "data": {
      "text/plain": [
       "''"
      ]
     },
     "execution_count": 21,
     "metadata": {},
     "output_type": "execute_result"
    }
   ],
   "source": [
    "predictions.select(\"label\", \"prediction\")\\\n",
    "    .coalesce(1)\\\n",
    "    .write\\\n",
    "    .mode(\"overwrite\")\\\n",
    "    .format(\"csv\")\\\n",
    "    .option(\"sep\", \",\")\\\n",
    "    .option(\"header\",\"true\")\\\n",
    "    .save(\"project/output/model1_predictions.csv\")\n",
    "\n",
    "# Run it from root directory of the repository\n",
    "run(\"hdfs dfs -cat project/output/model1_predictions.csv/*.csv > output/model1_predictions.csv\")"
   ]
  },
  {
   "cell_type": "markdown",
   "id": "89f9a43d-80ce-4ec1-930f-671a240673d9",
   "metadata": {},
   "source": [
    "## Evaluate the best model1"
   ]
  },
  {
   "cell_type": "code",
   "execution_count": 22,
   "id": "1d0cc0e6-7d0d-4030-a372-375e5e9b84f7",
   "metadata": {},
   "outputs": [
    {
     "name": "stdout",
     "output_type": "stream",
     "text": [
      "Root Mean Squared Error (RMSE) on test data = 1506.7564965041295\n",
      "R^2 on test data = -3.2269877858078546\n"
     ]
    }
   ],
   "source": [
    "from pyspark.ml.evaluation import RegressionEvaluator \n",
    "\n",
    "# Evaluate the performance of the model\n",
    "evaluator1_rmse = RegressionEvaluator(labelCol=\"label\", predictionCol=\"prediction\", metricName=\"rmse\")\n",
    "evaluator1_r2 = RegressionEvaluator(labelCol=\"label\", predictionCol=\"prediction\", metricName=\"r2\")\n",
    "\n",
    "rmse1 = evaluator1_rmse.evaluate(predictions)\n",
    "r21 = evaluator1_r2.evaluate(predictions)\n",
    "\n",
    "print(\"Root Mean Squared Error (RMSE) on test data = {}\".format(rmse1))\n",
    "print(\"R^2 on test data = {}\".format(r21))"
   ]
  },
  {
   "cell_type": "markdown",
   "id": "5308587c-3e52-41c6-ba7d-494d53cc45b1",
   "metadata": {},
   "source": [
    "# Second model"
   ]
  },
  {
   "cell_type": "markdown",
   "id": "d929b5a0-a159-4c94-ae56-086d3cf52df0",
   "metadata": {},
   "source": [
    "## Build a model"
   ]
  },
  {
   "cell_type": "code",
   "execution_count": 23,
   "id": "55d8981a-e274-4ab7-9d03-fefdc068b51b",
   "metadata": {},
   "outputs": [],
   "source": [
    "from pyspark.ml.regression import GBTRegressor\n",
    "\n",
    "# Create Linear Regression Model\n",
    "gbt = GBTRegressor()\n",
    "\n",
    "# Fit the data to the pipeline stages\n",
    "model_gbt = gbt.fit(train_data)"
   ]
  },
  {
   "cell_type": "markdown",
   "id": "7b1c9a67-fe61-49fe-898f-017df0c4006b",
   "metadata": {},
   "source": [
    "## Predict for test data"
   ]
  },
  {
   "cell_type": "code",
   "execution_count": 24,
   "id": "6cb95001-9d15-4da4-98df-2b87c0c39200",
   "metadata": {},
   "outputs": [
    {
     "name": "stdout",
     "output_type": "stream",
     "text": [
      "+--------------------+-------+--------------------+----------+\n",
      "|            features|  label|     indexedFeatures|prediction|\n",
      "+--------------------+-------+--------------------+----------+\n",
      "|[0.0,1.0,7566.0,7...|2975.00|[0.0,1.0,7566.0,7...|     800.0|\n",
      "|[0.0,1.0,7876.0,7...|1100.00|[0.0,1.0,7876.0,7...|    3000.0|\n",
      "|[1.0,0.0,7521.0,7...|1250.00|[1.0,0.0,7521.0,7...|    1600.0|\n",
      "|[1.0,0.0,7844.0,7...|1500.00|[1.0,0.0,7844.0,7...|    2850.0|\n",
      "|[1.0,0.0,7900.0,7...| 950.00|[1.0,0.0,7900.0,7...|    2850.0|\n",
      "+--------------------+-------+--------------------+----------+\n",
      "\n"
     ]
    }
   ],
   "source": [
    "predictions = model_gbt.transform(test_data)\n",
    "predictions.show()"
   ]
  },
  {
   "cell_type": "markdown",
   "id": "6c94da6f-f913-45ec-a377-d9c42dacb075",
   "metadata": {},
   "source": [
    "## Evaluate the model"
   ]
  },
  {
   "cell_type": "code",
   "execution_count": 25,
   "id": "f3508997-af5a-4882-8fd6-8d0a5be07ccb",
   "metadata": {},
   "outputs": [
    {
     "name": "stdout",
     "output_type": "stream",
     "text": [
      "Root Mean Squared Error (RMSE) on test data = 1667.0707843400053\n",
      "R^2 on test data = -4.174315769875256\n"
     ]
    }
   ],
   "source": [
    "from pyspark.ml.evaluation import RegressionEvaluator \n",
    "\n",
    "# Evaluate the performance of the model\n",
    "evaluator2_rmse = RegressionEvaluator(labelCol=\"label\", predictionCol=\"prediction\", metricName=\"rmse\")\n",
    "evaluator2_r2 = RegressionEvaluator(labelCol=\"label\", predictionCol=\"prediction\", metricName=\"r2\")\n",
    "\n",
    "rmse2 = evaluator2_rmse.evaluate(predictions)\n",
    "r22 = evaluator2_r2.evaluate(predictions)\n",
    "\n",
    "print(\"Root Mean Squared Error (RMSE) on test data = {}\".format(rmse2))\n",
    "print(\"R^2 on test data = {}\".format(r22))"
   ]
  },
  {
   "cell_type": "markdown",
   "id": "943a2d06-39bd-4c71-b0cc-18a63d995949",
   "metadata": {},
   "source": [
    "## Hyperparameter optimization"
   ]
  },
  {
   "cell_type": "code",
   "execution_count": 26,
   "id": "b99e50b9-5090-45ed-bfa7-7ddca0706176",
   "metadata": {},
   "outputs": [
    {
     "data": {
      "text/plain": [
       "[Param(parent='GBTRegressor_24a0b179d25a', name='cacheNodeIds', doc='If false, the algorithm will pass trees to executors to match instances with nodes. If true, the algorithm will cache node IDs for each instance. Caching can speed up training of deeper trees. Users can set how often should the cache be checkpointed or disable it by setting checkpointInterval.'),\n",
       " Param(parent='GBTRegressor_24a0b179d25a', name='checkpointInterval', doc='set checkpoint interval (>= 1) or disable checkpoint (-1). E.g. 10 means that the cache will get checkpointed every 10 iterations. Note: this setting will be ignored if the checkpoint directory is not set in the SparkContext.'),\n",
       " Param(parent='GBTRegressor_24a0b179d25a', name='featureSubsetStrategy', doc=\"The number of features to consider for splits at each tree node. Supported options: 'auto' (choose automatically for task: If numTrees == 1, set to 'all'. If numTrees > 1 (forest), set to 'sqrt' for classification and to 'onethird' for regression), 'all' (use all features), 'onethird' (use 1/3 of the features), 'sqrt' (use sqrt(number of features)), 'log2' (use log2(number of features)), 'n' (when n is in the range (0, 1.0], use n * number of features. When n is in the range (1, number of features), use n features). default = 'auto'\"),\n",
       " Param(parent='GBTRegressor_24a0b179d25a', name='featuresCol', doc='features column name.'),\n",
       " Param(parent='GBTRegressor_24a0b179d25a', name='impurity', doc='Criterion used for information gain calculation (case-insensitive). Supported options: variance'),\n",
       " Param(parent='GBTRegressor_24a0b179d25a', name='labelCol', doc='label column name.'),\n",
       " Param(parent='GBTRegressor_24a0b179d25a', name='leafCol', doc='Leaf indices column name. Predicted leaf index of each instance in each tree by preorder.'),\n",
       " Param(parent='GBTRegressor_24a0b179d25a', name='lossType', doc='Loss function which GBT tries to minimize (case-insensitive). Supported options: squared, absolute'),\n",
       " Param(parent='GBTRegressor_24a0b179d25a', name='maxBins', doc='Max number of bins for discretizing continuous features.  Must be >=2 and >= number of categories for any categorical feature.'),\n",
       " Param(parent='GBTRegressor_24a0b179d25a', name='maxDepth', doc='Maximum depth of the tree. (>= 0) E.g., depth 0 means 1 leaf node; depth 1 means 1 internal node + 2 leaf nodes. Must be in range [0, 30].'),\n",
       " Param(parent='GBTRegressor_24a0b179d25a', name='maxIter', doc='max number of iterations (>= 0).'),\n",
       " Param(parent='GBTRegressor_24a0b179d25a', name='maxMemoryInMB', doc='Maximum memory in MB allocated to histogram aggregation. If too small, then 1 node will be split per iteration, and its aggregates may exceed this size.'),\n",
       " Param(parent='GBTRegressor_24a0b179d25a', name='minInfoGain', doc='Minimum information gain for a split to be considered at a tree node.'),\n",
       " Param(parent='GBTRegressor_24a0b179d25a', name='minInstancesPerNode', doc='Minimum number of instances each child must have after split. If a split causes the left or right child to have fewer than minInstancesPerNode, the split will be discarded as invalid. Should be >= 1.'),\n",
       " Param(parent='GBTRegressor_24a0b179d25a', name='minWeightFractionPerNode', doc='Minimum fraction of the weighted sample count that each child must have after split. If a split causes the fraction of the total weight in the left or right child to be less than minWeightFractionPerNode, the split will be discarded as invalid. Should be in interval [0.0, 0.5).'),\n",
       " Param(parent='GBTRegressor_24a0b179d25a', name='predictionCol', doc='prediction column name.'),\n",
       " Param(parent='GBTRegressor_24a0b179d25a', name='seed', doc='random seed.'),\n",
       " Param(parent='GBTRegressor_24a0b179d25a', name='stepSize', doc='Step size (a.k.a. learning rate) in interval (0, 1] for shrinking the contribution of each estimator.'),\n",
       " Param(parent='GBTRegressor_24a0b179d25a', name='subsamplingRate', doc='Fraction of the training data used for learning each decision tree, in range (0, 1].'),\n",
       " Param(parent='GBTRegressor_24a0b179d25a', name='validationIndicatorCol', doc='name of the column that indicates whether each row is for training or for validation. False indicates training; true indicates validation.'),\n",
       " Param(parent='GBTRegressor_24a0b179d25a', name='validationTol', doc='Threshold for stopping early when fit with validation is used. If the error rate on the validation input changes by less than the validationTol, then learning will stop early (before `maxIter`). This parameter is ignored when fit without validation is used.'),\n",
       " Param(parent='GBTRegressor_24a0b179d25a', name='weightCol', doc='weight column name. If this is not set or empty, we treat all instance weights as 1.0.')]"
      ]
     },
     "execution_count": 26,
     "metadata": {},
     "output_type": "execute_result"
    }
   ],
   "source": [
    "model_gbt.params"
   ]
  },
  {
   "cell_type": "code",
   "execution_count": 27,
   "id": "5dea6a22-9f7a-483b-818e-0b4e62f723e3",
   "metadata": {},
   "outputs": [
    {
     "data": {
      "text/plain": [
       "GBTRegressionModel: uid=GBTRegressor_24a0b179d25a, numTrees=20, numFeatures=4"
      ]
     },
     "execution_count": 27,
     "metadata": {},
     "output_type": "execute_result"
    }
   ],
   "source": [
    "from pyspark.ml.tuning import ParamGridBuilder, CrossValidator \n",
    "\n",
    "import numpy as np\n",
    "\n",
    "\n",
    "grid = ParamGridBuilder()\n",
    "grid = grid.addGrid(model_gbt.maxDepth, [2, 5, 10]).addGrid(model_gbt.lossType, ['squared', 'absolute']).build()\n",
    "\n",
    "cv = CrossValidator(estimator = gbt, \n",
    "                    estimatorParamMaps = grid, \n",
    "                    evaluator = evaluator2_rmse,\n",
    "                    parallelism = 5,\n",
    "                    numFolds=3)\n",
    "\n",
    "cvModel = cv.fit(train_data)\n",
    "bestModel = cvModel.bestModel\n",
    "bestModel"
   ]
  },
  {
   "cell_type": "markdown",
   "id": "1524320f-8764-4ed4-b8ff-9d0a43b2ee29",
   "metadata": {},
   "source": [
    "## Best model 2\n"
   ]
  },
  {
   "cell_type": "code",
   "execution_count": 28,
   "id": "ccafef7f-5a51-4370-8572-447f06b92248",
   "metadata": {},
   "outputs": [
    {
     "name": "stdout",
     "output_type": "stream",
     "text": [
      "{Param(parent='GBTRegressor_24a0b179d25a', name='maxBins', doc='Max number of bins for discretizing continuous features.  Must be >=2 and >= number of categories for any categorical feature.'): 32,\n",
      " Param(parent='GBTRegressor_24a0b179d25a', name='maxDepth', doc='Maximum depth of the tree. (>= 0) E.g., depth 0 means 1 leaf node; depth 1 means 1 internal node + 2 leaf nodes. Must be in range [0, 30].'): 5,\n",
      " Param(parent='GBTRegressor_24a0b179d25a', name='validationTol', doc='Threshold for stopping early when fit with validation is used. If the error rate on the validation input changes by less than the validationTol, then learning will stop early (before `maxIter`). This parameter is ignored when fit without validation is used.'): 0.01,\n",
      " Param(parent='GBTRegressor_24a0b179d25a', name='maxIter', doc='max number of iterations (>= 0).'): 20,\n",
      " Param(parent='GBTRegressor_24a0b179d25a', name='leafCol', doc='Leaf indices column name. Predicted leaf index of each instance in each tree by preorder.'): '',\n",
      " Param(parent='GBTRegressor_24a0b179d25a', name='minWeightFractionPerNode', doc='Minimum fraction of the weighted sample count that each child must have after split. If a split causes the fraction of the total weight in the left or right child to be less than minWeightFractionPerNode, the split will be discarded as invalid. Should be in interval [0.0, 0.5).'): 0.0,\n",
      " Param(parent='GBTRegressor_24a0b179d25a', name='labelCol', doc='label column name.'): 'label',\n",
      " Param(parent='GBTRegressor_24a0b179d25a', name='minInstancesPerNode', doc='Minimum number of instances each child must have after split. If a split causes the left or right child to have fewer than minInstancesPerNode, the split will be discarded as invalid. Should be >= 1.'): 1,\n",
      " Param(parent='GBTRegressor_24a0b179d25a', name='lossType', doc='Loss function which GBT tries to minimize (case-insensitive). Supported options: squared, absolute'): 'absolute',\n",
      " Param(parent='GBTRegressor_24a0b179d25a', name='predictionCol', doc='prediction column name.'): 'prediction',\n",
      " Param(parent='GBTRegressor_24a0b179d25a', name='seed', doc='random seed.'): 2510596399944299757,\n",
      " Param(parent='GBTRegressor_24a0b179d25a', name='stepSize', doc='Step size (a.k.a. learning rate) in interval (0, 1] for shrinking the contribution of each estimator.'): 0.1,\n",
      " Param(parent='GBTRegressor_24a0b179d25a', name='subsamplingRate', doc='Fraction of the training data used for learning each decision tree, in range (0, 1].'): 1.0,\n",
      " Param(parent='GBTRegressor_24a0b179d25a', name='minInfoGain', doc='Minimum information gain for a split to be considered at a tree node.'): 0.0,\n",
      " Param(parent='GBTRegressor_24a0b179d25a', name='maxMemoryInMB', doc='Maximum memory in MB allocated to histogram aggregation. If too small, then 1 node will be split per iteration, and its aggregates may exceed this size.'): 256,\n",
      " Param(parent='GBTRegressor_24a0b179d25a', name='featureSubsetStrategy', doc=\"The number of features to consider for splits at each tree node. Supported options: 'auto' (choose automatically for task: If numTrees == 1, set to 'all'. If numTrees > 1 (forest), set to 'sqrt' for classification and to 'onethird' for regression), 'all' (use all features), 'onethird' (use 1/3 of the features), 'sqrt' (use sqrt(number of features)), 'log2' (use log2(number of features)), 'n' (when n is in the range (0, 1.0], use n * number of features. When n is in the range (1, number of features), use n features). default = 'auto'\"): 'all',\n",
      " Param(parent='GBTRegressor_24a0b179d25a', name='featuresCol', doc='features column name.'): 'features',\n",
      " Param(parent='GBTRegressor_24a0b179d25a', name='checkpointInterval', doc='set checkpoint interval (>= 1) or disable checkpoint (-1). E.g. 10 means that the cache will get checkpointed every 10 iterations. Note: this setting will be ignored if the checkpoint directory is not set in the SparkContext.'): 10,\n",
      " Param(parent='GBTRegressor_24a0b179d25a', name='impurity', doc='Criterion used for information gain calculation (case-insensitive). Supported options: variance'): 'variance',\n",
      " Param(parent='GBTRegressor_24a0b179d25a', name='cacheNodeIds', doc='If false, the algorithm will pass trees to executors to match instances with nodes. If true, the algorithm will cache node IDs for each instance. Caching can speed up training of deeper trees. Users can set how often should the cache be checkpointed or disable it by setting checkpointInterval.'): False}\n"
     ]
    }
   ],
   "source": [
    "from pprint import pprint\n",
    "model2 = bestModel\n",
    "pprint(model2.extractParamMap())"
   ]
  },
  {
   "cell_type": "markdown",
   "id": "336a3f34-cd0b-4e7e-a0ff-8670bee1e2ef",
   "metadata": {},
   "source": [
    "## Save the model to HDFS"
   ]
  },
  {
   "cell_type": "code",
   "execution_count": 29,
   "id": "098bb094-67c3-4a8b-a52a-95a1f7c7bc74",
   "metadata": {},
   "outputs": [
    {
     "data": {
      "text/plain": [
       "''"
      ]
     },
     "execution_count": 29,
     "metadata": {},
     "output_type": "execute_result"
    }
   ],
   "source": [
    "model2.write().overwrite().save(\"project/models/model2\")\n",
    "\n",
    "# Run it from root directory of the repository\n",
    "run(\"hdfs dfs -get project/models/model2 models/model2\")"
   ]
  },
  {
   "cell_type": "markdown",
   "id": "2220eee3-99d3-44cc-82ab-b941fd5e5e7c",
   "metadata": {},
   "source": [
    "## Predict for test data using best model2"
   ]
  },
  {
   "cell_type": "code",
   "execution_count": 30,
   "id": "53789d15-33a1-43b2-8e8e-df7627df5de1",
   "metadata": {},
   "outputs": [
    {
     "name": "stdout",
     "output_type": "stream",
     "text": [
      "+--------------------+-------+--------------------+------------------+\n",
      "|            features|  label|     indexedFeatures|        prediction|\n",
      "+--------------------+-------+--------------------+------------------+\n",
      "|[0.0,1.0,7566.0,7...|2975.00|[0.0,1.0,7566.0,7...| 800.0999999999999|\n",
      "|[0.0,1.0,7876.0,7...|1100.00|[0.0,1.0,7876.0,7...|3000.1000000000004|\n",
      "|[1.0,0.0,7521.0,7...|1250.00|[1.0,0.0,7521.0,7...|1600.1000000000004|\n",
      "|[1.0,0.0,7844.0,7...|1500.00|[1.0,0.0,7844.0,7...|2850.1000000000004|\n",
      "|[1.0,0.0,7900.0,7...| 950.00|[1.0,0.0,7900.0,7...|2850.1000000000004|\n",
      "+--------------------+-------+--------------------+------------------+\n",
      "\n"
     ]
    }
   ],
   "source": [
    "predictions = model2.transform(test_data)\n",
    "predictions.show()"
   ]
  },
  {
   "cell_type": "code",
   "execution_count": 31,
   "id": "52df5365-5d86-407f-b71a-878fff80b152",
   "metadata": {},
   "outputs": [
    {
     "data": {
      "text/plain": [
       "''"
      ]
     },
     "execution_count": 31,
     "metadata": {},
     "output_type": "execute_result"
    }
   ],
   "source": [
    "predictions.select(\"label\", \"prediction\")\\\n",
    "    .coalesce(1)\\\n",
    "    .write\\\n",
    "    .mode(\"overwrite\")\\\n",
    "    .format(\"csv\")\\\n",
    "    .option(\"sep\", \",\")\\\n",
    "    .option(\"header\",\"true\")\\\n",
    "    .save(\"project/output/model2_predictions.csv\")\n",
    "\n",
    "# Run it from root directory of the repository\n",
    "run(\"hdfs dfs -cat project/output/model2_predictions.csv/*.csv > output/model2_predictions.csv\")"
   ]
  },
  {
   "cell_type": "markdown",
   "id": "64f9e394-a65a-4cb3-b9c8-1036fd3a443a",
   "metadata": {},
   "source": [
    "## Evaluate the best model2"
   ]
  },
  {
   "cell_type": "code",
   "execution_count": 32,
   "id": "2e83b832-0088-4e95-95fc-768bc13d70ee",
   "metadata": {},
   "outputs": [
    {
     "name": "stdout",
     "output_type": "stream",
     "text": [
      "Root Mean Squared Error (RMSE) on test data = 1667.1106771897303\n",
      "R^2 on test data = -4.174563414634148\n"
     ]
    }
   ],
   "source": [
    "from pyspark.ml.evaluation import RegressionEvaluator \n",
    "\n",
    "# Evaluate the performance of the model\n",
    "evaluator2_rmse = RegressionEvaluator(labelCol=\"label\", predictionCol=\"prediction\", metricName=\"rmse\")\n",
    "evaluator2_r2 = RegressionEvaluator(labelCol=\"label\", predictionCol=\"prediction\", metricName=\"r2\")\n",
    "\n",
    "rmse2 = evaluator2_rmse.evaluate(predictions)\n",
    "r22 = evaluator2_r2.evaluate(predictions)\n",
    "\n",
    "print(\"Root Mean Squared Error (RMSE) on test data = {}\".format(rmse2))\n",
    "print(\"R^2 on test data = {}\".format(r22))"
   ]
  },
  {
   "cell_type": "markdown",
   "id": "22bd7b48-f536-495a-ac38-90ea1b9014af",
   "metadata": {},
   "source": [
    "# Compare best models"
   ]
  },
  {
   "cell_type": "code",
   "execution_count": 33,
   "id": "8b91f3c3-50ca-4ce1-9dfa-dba7449fbc35",
   "metadata": {},
   "outputs": [
    {
     "name": "stdout",
     "output_type": "stream",
     "text": [
      "+-----------------------------------------------------------------------------+------------------+-------------------+\n",
      "|model                                                                        |RMSE              |R2                 |\n",
      "+-----------------------------------------------------------------------------+------------------+-------------------+\n",
      "|LinearRegressionModel: uid=LinearRegression_2abd6a80678b, numFeatures=4      |1506.7564965041295|-3.2269877858078546|\n",
      "|GBTRegressionModel: uid=GBTRegressor_24a0b179d25a, numTrees=20, numFeatures=4|1667.1106771897303|-4.174563414634148 |\n",
      "+-----------------------------------------------------------------------------+------------------+-------------------+\n",
      "\n"
     ]
    }
   ],
   "source": [
    "models = [[str(model1),rmse1, r21], [str(model2),rmse2, r22]]\n",
    "\n",
    "df = spark.createDataFrame(models, [\"model\", \"RMSE\", \"R2\"])\n",
    "df.show(truncate=False)"
   ]
  },
  {
   "cell_type": "code",
   "execution_count": 34,
   "id": "e008d30b-9489-44a2-84a0-95bcd9608319",
   "metadata": {},
   "outputs": [
    {
     "data": {
      "text/plain": [
       "''"
      ]
     },
     "execution_count": 34,
     "metadata": {},
     "output_type": "execute_result"
    }
   ],
   "source": [
    "df.coalesce(1)\\\n",
    "    .write\\\n",
    "    .mode(\"overwrite\")\\\n",
    "    .format(\"csv\")\\\n",
    "    .option(\"sep\", \",\")\\\n",
    "    .option(\"header\",\"true\")\\\n",
    "    .save(\"project/output/evaluation.csv\")\n",
    "\n",
    "# Run it from root directory of the repository\n",
    "run(\"hdfs dfs -cat project/output/evaluation.csv/*.csv > output/evaluation.csv\")"
   ]
  }
 ],
 "metadata": {
  "kernelspec": {
   "display_name": "Pyspark 3",
   "language": "python",
   "name": "python3"
  },
  "language_info": {
   "codemirror_mode": {
    "name": "ipython",
    "version": 3
   },
   "file_extension": ".py",
   "mimetype": "text/x-python",
   "name": "python",
   "nbconvert_exporter": "python",
   "pygments_lexer": "ipython3",
   "version": "3.6.8"
  },
  "toc-autonumbering": true,
  "toc-showtags": false
 },
 "nbformat": 4,
 "nbformat_minor": 5
}
